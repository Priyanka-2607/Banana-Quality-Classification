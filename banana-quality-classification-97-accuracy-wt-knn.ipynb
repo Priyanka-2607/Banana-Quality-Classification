{
 "cells": [
  {
   "cell_type": "markdown",
   "id": "2b642fc5",
   "metadata": {
    "papermill": {
     "duration": 0.007537,
     "end_time": "2024-03-05T02:09:12.297464",
     "exception": false,
     "start_time": "2024-03-05T02:09:12.289927",
     "status": "completed"
    },
    "tags": []
   },
   "source": [
    "# <a id=\"0\">Classification of Quality of Bananas</a>\n",
    "\n",
    "Using the banna quality data set __banana_quality.csv__ provided in the folder. \n",
    "\n",
    "__Dataset schema:__ \n",
    "   - Size - size of fruit\n",
    "   - Weight - weight of fruit\n",
    "   - Sweetness - sweetness of fruit\n",
    "   - Softness - softness of fruit\n",
    "   - HarvestTime - amount of time passed from harvesting of the fruit\n",
    "   - Ripeness - ripness of fruit\n",
    "   - Acidity - acidity of fruit\n",
    "   \n",
    "\n",
    "   Output variable: \n",
    "   - Quality - quality of fruit\n"
   ]
  },
  {
   "cell_type": "markdown",
   "id": "6e0886d1",
   "metadata": {
    "papermill": {
     "duration": 0.00596,
     "end_time": "2024-03-05T02:09:12.310020",
     "exception": false,
     "start_time": "2024-03-05T02:09:12.304060",
     "status": "completed"
    },
    "tags": []
   },
   "source": [
    "### Exploratory Data Analysis and Feature Engineering ###"
   ]
  },
  {
   "cell_type": "code",
   "execution_count": 1,
   "id": "1900afd0",
   "metadata": {
    "execution": {
     "iopub.execute_input": "2024-03-05T02:09:12.323847Z",
     "iopub.status.busy": "2024-03-05T02:09:12.323522Z",
     "iopub.status.idle": "2024-03-05T02:09:13.218055Z",
     "shell.execute_reply": "2024-03-05T02:09:13.216871Z"
    },
    "papermill": {
     "duration": 0.90416,
     "end_time": "2024-03-05T02:09:13.220275",
     "exception": false,
     "start_time": "2024-03-05T02:09:12.316115",
     "status": "completed"
    },
    "tags": []
   },
   "outputs": [],
   "source": [
    "import pandas as pd\n",
    "\n",
    "import warnings\n",
    "warnings.filterwarnings(\"ignore\")\n",
    "  \n",
    "df = pd.read_csv('/kaggle/input/banana/banana_quality.csv')"
   ]
  },
  {
   "cell_type": "markdown",
   "id": "0ccea44c",
   "metadata": {
    "papermill": {
     "duration": 0.006441,
     "end_time": "2024-03-05T02:09:13.234884",
     "exception": false,
     "start_time": "2024-03-05T02:09:13.228443",
     "status": "completed"
    },
    "tags": []
   },
   "source": [
    "__Number of rows, columns and some simple statistics of the dataset using [df.info()](https://pandas.pydata.org/docs/reference/api/pandas.DataFrame.info.html)"
   ]
  },
  {
   "cell_type": "code",
   "execution_count": 2,
   "id": "94a7d376",
   "metadata": {
    "execution": {
     "iopub.execute_input": "2024-03-05T02:09:13.250561Z",
     "iopub.status.busy": "2024-03-05T02:09:13.249066Z",
     "iopub.status.idle": "2024-03-05T02:09:13.286199Z",
     "shell.execute_reply": "2024-03-05T02:09:13.284372Z"
    },
    "papermill": {
     "duration": 0.047735,
     "end_time": "2024-03-05T02:09:13.289191",
     "exception": false,
     "start_time": "2024-03-05T02:09:13.241456",
     "status": "completed"
    },
    "tags": []
   },
   "outputs": [
    {
     "name": "stdout",
     "output_type": "stream",
     "text": [
      "<class 'pandas.core.frame.DataFrame'>\n",
      "RangeIndex: 8000 entries, 0 to 7999\n",
      "Data columns (total 8 columns):\n",
      " #   Column       Non-Null Count  Dtype  \n",
      "---  ------       --------------  -----  \n",
      " 0   Size         8000 non-null   float64\n",
      " 1   Weight       8000 non-null   float64\n",
      " 2   Sweetness    8000 non-null   float64\n",
      " 3   Softness     8000 non-null   float64\n",
      " 4   HarvestTime  8000 non-null   float64\n",
      " 5   Ripeness     8000 non-null   float64\n",
      " 6   Acidity      8000 non-null   float64\n",
      " 7   Quality      8000 non-null   object \n",
      "dtypes: float64(7), object(1)\n",
      "memory usage: 500.1+ KB\n"
     ]
    }
   ],
   "source": [
    "df.info()"
   ]
  },
  {
   "cell_type": "markdown",
   "id": "cb25f5f0",
   "metadata": {
    "papermill": {
     "duration": 0.006389,
     "end_time": "2024-03-05T02:09:13.302922",
     "exception": false,
     "start_time": "2024-03-05T02:09:13.296533",
     "status": "completed"
    },
    "tags": []
   },
   "source": [
    "__Create Categorical Feature 'Ripness Class'based on Ripness factor. This new column will be used as the target Variable"
   ]
  },
  {
   "cell_type": "code",
   "execution_count": 3,
   "id": "4fa21ba6",
   "metadata": {
    "execution": {
     "iopub.execute_input": "2024-03-05T02:09:13.318056Z",
     "iopub.status.busy": "2024-03-05T02:09:13.317754Z",
     "iopub.status.idle": "2024-03-05T02:09:13.339637Z",
     "shell.execute_reply": "2024-03-05T02:09:13.338088Z"
    },
    "papermill": {
     "duration": 0.032222,
     "end_time": "2024-03-05T02:09:13.342217",
     "exception": false,
     "start_time": "2024-03-05T02:09:13.309995",
     "status": "completed"
    },
    "tags": []
   },
   "outputs": [
    {
     "data": {
      "text/plain": [
       "Ripness Class\n",
       "Green              2000\n",
       "Yellowish Green    2000\n",
       "Mid-Rippen         2000\n",
       "Over-Rippen        2000\n",
       "Name: count, dtype: int64"
      ]
     },
     "execution_count": 3,
     "metadata": {},
     "output_type": "execute_result"
    }
   ],
   "source": [
    "Ripness_labels = ['Green', 'Yellowish Green', 'Mid-Rippen', 'Over-Rippen']\n",
    "df['Ripness Class'] = pd.qcut(df['Ripeness'], q=4, labels=Ripness_labels)\n",
    "df['Ripness Class'].value_counts()"
   ]
  },
  {
   "cell_type": "markdown",
   "id": "1ffe92d8",
   "metadata": {
    "papermill": {
     "duration": 0.007544,
     "end_time": "2024-03-05T02:09:13.358749",
     "exception": false,
     "start_time": "2024-03-05T02:09:13.351205",
     "status": "completed"
    },
    "tags": []
   },
   "source": [
    "__Drop the Ripness column"
   ]
  },
  {
   "cell_type": "code",
   "execution_count": 4,
   "id": "54f41a18",
   "metadata": {
    "execution": {
     "iopub.execute_input": "2024-03-05T02:09:13.373895Z",
     "iopub.status.busy": "2024-03-05T02:09:13.373564Z",
     "iopub.status.idle": "2024-03-05T02:09:13.384481Z",
     "shell.execute_reply": "2024-03-05T02:09:13.383450Z"
    },
    "papermill": {
     "duration": 0.020607,
     "end_time": "2024-03-05T02:09:13.386219",
     "exception": false,
     "start_time": "2024-03-05T02:09:13.365612",
     "status": "completed"
    },
    "tags": []
   },
   "outputs": [],
   "source": [
    "df = df.drop('Ripeness', axis =1)"
   ]
  },
  {
   "cell_type": "markdown",
   "id": "e76480e7",
   "metadata": {
    "papermill": {
     "duration": 0.006405,
     "end_time": "2024-03-05T02:09:13.399526",
     "exception": false,
     "start_time": "2024-03-05T02:09:13.393121",
     "status": "completed"
    },
    "tags": []
   },
   "source": [
    "__Create Model features and target variable"
   ]
  },
  {
   "cell_type": "code",
   "execution_count": 5,
   "id": "cfd2d671",
   "metadata": {
    "execution": {
     "iopub.execute_input": "2024-03-05T02:09:13.415742Z",
     "iopub.status.busy": "2024-03-05T02:09:13.415043Z",
     "iopub.status.idle": "2024-03-05T02:09:13.421436Z",
     "shell.execute_reply": "2024-03-05T02:09:13.420433Z"
    },
    "papermill": {
     "duration": 0.017823,
     "end_time": "2024-03-05T02:09:13.423986",
     "exception": false,
     "start_time": "2024-03-05T02:09:13.406163",
     "status": "completed"
    },
    "tags": []
   },
   "outputs": [
    {
     "name": "stdout",
     "output_type": "stream",
     "text": [
      "Model features:  Index(['Size', 'Weight', 'Sweetness', 'Softness', 'HarvestTime', 'Acidity',\n",
      "       'Ripness Class'],\n",
      "      dtype='object')\n",
      "Model target:  Quality\n"
     ]
    }
   ],
   "source": [
    "model_features = df.columns.drop('Quality')\n",
    "model_target = 'Quality'\n",
    "\n",
    "print('Model features: ', model_features)\n",
    "print('Model target: ', model_target)"
   ]
  },
  {
   "cell_type": "code",
   "execution_count": 6,
   "id": "8f9057d1",
   "metadata": {
    "execution": {
     "iopub.execute_input": "2024-03-05T02:09:13.439863Z",
     "iopub.status.busy": "2024-03-05T02:09:13.439215Z",
     "iopub.status.idle": "2024-03-05T02:09:13.450643Z",
     "shell.execute_reply": "2024-03-05T02:09:13.449801Z"
    },
    "papermill": {
     "duration": 0.021566,
     "end_time": "2024-03-05T02:09:13.452517",
     "exception": false,
     "start_time": "2024-03-05T02:09:13.430951",
     "status": "completed"
    },
    "tags": []
   },
   "outputs": [
    {
     "name": "stdout",
     "output_type": "stream",
     "text": [
      "<class 'pandas.core.frame.DataFrame'>\n",
      "RangeIndex: 8000 entries, 0 to 7999\n",
      "Data columns (total 8 columns):\n",
      " #   Column         Non-Null Count  Dtype   \n",
      "---  ------         --------------  -----   \n",
      " 0   Size           8000 non-null   float64 \n",
      " 1   Weight         8000 non-null   float64 \n",
      " 2   Sweetness      8000 non-null   float64 \n",
      " 3   Softness       8000 non-null   float64 \n",
      " 4   HarvestTime    8000 non-null   float64 \n",
      " 5   Acidity        8000 non-null   float64 \n",
      " 6   Quality        8000 non-null   object  \n",
      " 7   Ripness Class  8000 non-null   category\n",
      "dtypes: category(1), float64(6), object(1)\n",
      "memory usage: 445.6+ KB\n"
     ]
    }
   ],
   "source": [
    "df.info()"
   ]
  },
  {
   "cell_type": "code",
   "execution_count": 7,
   "id": "17454049",
   "metadata": {
    "execution": {
     "iopub.execute_input": "2024-03-05T02:09:13.467714Z",
     "iopub.status.busy": "2024-03-05T02:09:13.467414Z",
     "iopub.status.idle": "2024-03-05T02:09:13.477280Z",
     "shell.execute_reply": "2024-03-05T02:09:13.475750Z"
    },
    "papermill": {
     "duration": 0.020236,
     "end_time": "2024-03-05T02:09:13.479678",
     "exception": false,
     "start_time": "2024-03-05T02:09:13.459442",
     "status": "completed"
    },
    "tags": []
   },
   "outputs": [
    {
     "name": "stdout",
     "output_type": "stream",
     "text": [
      "Numerical columns: Index(['Size', 'Weight', 'Sweetness', 'Softness', 'HarvestTime', 'Acidity'], dtype='object')\n",
      "\n",
      "Categorical columns: Index(['Ripness Class'], dtype='object')\n"
     ]
    }
   ],
   "source": [
    "import numpy as np\n",
    "numerical_features_all = df[model_features].select_dtypes(include=np.number).columns\n",
    "print('Numerical columns:',numerical_features_all)\n",
    "\n",
    "print('')\n",
    "\n",
    "categorical_features_all = df[model_features].select_dtypes(include='category').columns\n",
    "print('Categorical columns:',categorical_features_all)\n"
   ]
  },
  {
   "cell_type": "markdown",
   "id": "fce912f5",
   "metadata": {
    "papermill": {
     "duration": 0.006909,
     "end_time": "2024-03-05T02:09:13.494563",
     "exception": false,
     "start_time": "2024-03-05T02:09:13.487654",
     "status": "completed"
    },
    "tags": []
   },
   "source": [
    "__Plot bar plot for a categorical feature quality"
   ]
  },
  {
   "cell_type": "code",
   "execution_count": 8,
   "id": "7da4196e",
   "metadata": {
    "execution": {
     "iopub.execute_input": "2024-03-05T02:09:13.511230Z",
     "iopub.status.busy": "2024-03-05T02:09:13.510204Z",
     "iopub.status.idle": "2024-03-05T02:09:13.732772Z",
     "shell.execute_reply": "2024-03-05T02:09:13.731825Z"
    },
    "papermill": {
     "duration": 0.233614,
     "end_time": "2024-03-05T02:09:13.735239",
     "exception": false,
     "start_time": "2024-03-05T02:09:13.501625",
     "status": "completed"
    },
    "tags": []
   },
   "outputs": [
    {
     "name": "stdout",
     "output_type": "stream",
     "text": [
      "Ripness Class  \n",
      "Green              2000\n",
      "Yellowish Green    2000\n",
      "Mid-Rippen         2000\n",
      "Over-Rippen        2000\n",
      "Name: count, dtype: int64\n",
      "\n"
     ]
    },
    {
     "data": {
      "image/png": "[encoded data removed]",
      "text/plain": [
       "<Figure size 640x480 with 1 Axes>"
      ]
     },
     "metadata": {},
     "output_type": "display_data"
    }
   ],
   "source": [
    "import matplotlib.pyplot as plt\n",
    "%matplotlib inline\n",
    "print(df[categorical_features_all].value_counts())\n",
    "\n",
    "print('')\n",
    "\n",
    "df[categorical_features_all].value_counts().plot.bar()\n",
    "plt.show()"
   ]
  },
  {
   "cell_type": "markdown",
   "id": "ad428e37",
   "metadata": {
    "papermill": {
     "duration": 0.007064,
     "end_time": "2024-03-05T02:09:13.749923",
     "exception": false,
     "start_time": "2024-03-05T02:09:13.742859",
     "status": "completed"
    },
    "tags": []
   },
   "source": [
    "__Plot histogram"
   ]
  },
  {
   "cell_type": "code",
   "execution_count": 9,
   "id": "2b80985a",
   "metadata": {
    "execution": {
     "iopub.execute_input": "2024-03-05T02:09:13.768097Z",
     "iopub.status.busy": "2024-03-05T02:09:13.767395Z",
     "iopub.status.idle": "2024-03-05T02:09:14.848046Z",
     "shell.execute_reply": "2024-03-05T02:09:14.846785Z"
    },
    "papermill": {
     "duration": 1.092643,
     "end_time": "2024-03-05T02:09:14.850849",
     "exception": false,
     "start_time": "2024-03-05T02:09:13.758206",
     "status": "completed"
    },
    "tags": []
   },
   "outputs": [
    {
     "name": "stdout",
     "output_type": "stream",
     "text": [
      "Size\n"
     ]
    },
    {
     "data": {
      "image/png": "[encoded data removed]",
      "text/plain": [
       "<Figure size 640x480 with 1 Axes>"
      ]
     },
     "metadata": {},
     "output_type": "display_data"
    },
    {
     "name": "stdout",
     "output_type": "stream",
     "text": [
      "Weight\n"
     ]
    },
    {
     "data": {
      "image/png": "[encoded data removed]",
      "text/plain": [
       "<Figure size 640x480 with 1 Axes>"
      ]
     },
     "metadata": {},
     "output_type": "display_data"
    },
    {
     "name": "stdout",
     "output_type": "stream",
     "text": [
      "Sweetness\n"
     ]
    },
    {
     "data": {
      "image/png": "[encoded data removed]",
      "text/plain": [
       "<Figure size 640x480 with 1 Axes>"
      ]
     },
     "metadata": {},
     "output_type": "display_data"
    },
    {
     "name": "stdout",
     "output_type": "stream",
     "text": [
      "Softness\n"
     ]
    },
    {
     "data": {
      "image/png": "[encoded data removed]",
      "text/plain": [
       "<Figure size 640x480 with 1 Axes>"
      ]
     },
     "metadata": {},
     "output_type": "display_data"
    },
    {
     "name": "stdout",
     "output_type": "stream",
     "text": [
      "HarvestTime\n"
     ]
    },
    {
     "data": {
      "image/png": "[encoded data removed]",
      "text/plain": [
       "<Figure size 640x480 with 1 Axes>"
      ]
     },
     "metadata": {},
     "output_type": "display_data"
    },
    {
     "name": "stdout",
     "output_type": "stream",
     "text": [
      "Acidity\n"
     ]
    },
    {
     "data": {
      "image/png": "[encoded data removed]",
      "text/plain": [
       "<Figure size 640x480 with 1 Axes>"
      ]
     },
     "metadata": {},
     "output_type": "display_data"
    }
   ],
   "source": [
    "for c in numerical_features_all:\n",
    "    print(c)\n",
    "    df[c].plot.hist(bins=10)\n",
    "    plt.show()"
   ]
  },
  {
   "cell_type": "markdown",
   "id": "015123af",
   "metadata": {
    "papermill": {
     "duration": 0.008459,
     "end_time": "2024-03-05T02:09:14.868543",
     "exception": false,
     "start_time": "2024-03-05T02:09:14.860084",
     "status": "completed"
    },
    "tags": []
   },
   "source": [
    "__Plot heat map"
   ]
  },
  {
   "cell_type": "code",
   "execution_count": 10,
   "id": "350482b4",
   "metadata": {
    "execution": {
     "iopub.execute_input": "2024-03-05T02:09:14.887507Z",
     "iopub.status.busy": "2024-03-05T02:09:14.887148Z",
     "iopub.status.idle": "2024-03-05T02:09:14.974794Z",
     "shell.execute_reply": "2024-03-05T02:09:14.973665Z"
    },
    "papermill": {
     "duration": 0.099986,
     "end_time": "2024-03-05T02:09:14.977154",
     "exception": false,
     "start_time": "2024-03-05T02:09:14.877168",
     "status": "completed"
    },
    "tags": []
   },
   "outputs": [
    {
     "data": {
      "text/html": [
       "<style type=\"text/css\">\n",
       "#T_ed937_row0_col0, #T_ed937_row1_col1, #T_ed937_row2_col2, #T_ed937_row3_col3, #T_ed937_row4_col4, #T_ed937_row5_col5 {\n",
       "  background-color: #b40426;\n",
       "  color: #f1f1f1;\n",
       "}\n",
       "#T_ed937_row0_col1, #T_ed937_row0_col5 {\n",
       "  background-color: #3c4ec2;\n",
       "  color: #f1f1f1;\n",
       "}\n",
       "#T_ed937_row0_col2, #T_ed937_row1_col3, #T_ed937_row2_col0, #T_ed937_row2_col4, #T_ed937_row3_col1, #T_ed937_row3_col5 {\n",
       "  background-color: #3b4cc0;\n",
       "  color: #f1f1f1;\n",
       "}\n",
       "#T_ed937_row0_col3 {\n",
       "  background-color: #9ebeff;\n",
       "  color: #000000;\n",
       "}\n",
       "#T_ed937_row0_col4 {\n",
       "  background-color: #f6bda2;\n",
       "  color: #000000;\n",
       "}\n",
       "#T_ed937_row1_col0 {\n",
       "  background-color: #4c66d6;\n",
       "  color: #f1f1f1;\n",
       "}\n",
       "#T_ed937_row1_col2 {\n",
       "  background-color: #e7d7ce;\n",
       "  color: #000000;\n",
       "}\n",
       "#T_ed937_row1_col4 {\n",
       "  background-color: #5a78e4;\n",
       "  color: #f1f1f1;\n",
       "}\n",
       "#T_ed937_row1_col5, #T_ed937_row2_col1 {\n",
       "  background-color: #e0dbd8;\n",
       "  color: #000000;\n",
       "}\n",
       "#T_ed937_row2_col3 {\n",
       "  background-color: #536edd;\n",
       "  color: #f1f1f1;\n",
       "}\n",
       "#T_ed937_row2_col5 {\n",
       "  background-color: #9bbcff;\n",
       "  color: #000000;\n",
       "}\n",
       "#T_ed937_row3_col0 {\n",
       "  background-color: #aac7fd;\n",
       "  color: #000000;\n",
       "}\n",
       "#T_ed937_row3_col2 {\n",
       "  background-color: #6384eb;\n",
       "  color: #f1f1f1;\n",
       "}\n",
       "#T_ed937_row3_col4 {\n",
       "  background-color: #a9c6fd;\n",
       "  color: #000000;\n",
       "}\n",
       "#T_ed937_row4_col0 {\n",
       "  background-color: #f7b89c;\n",
       "  color: #000000;\n",
       "}\n",
       "#T_ed937_row4_col1, #T_ed937_row5_col0, #T_ed937_row5_col4 {\n",
       "  background-color: #5673e0;\n",
       "  color: #f1f1f1;\n",
       "}\n",
       "#T_ed937_row4_col2 {\n",
       "  background-color: #485fd1;\n",
       "  color: #f1f1f1;\n",
       "}\n",
       "#T_ed937_row4_col3 {\n",
       "  background-color: #a6c4fe;\n",
       "  color: #000000;\n",
       "}\n",
       "#T_ed937_row4_col5 {\n",
       "  background-color: #4961d2;\n",
       "  color: #f1f1f1;\n",
       "}\n",
       "#T_ed937_row5_col1 {\n",
       "  background-color: #e5d8d1;\n",
       "  color: #000000;\n",
       "}\n",
       "#T_ed937_row5_col2 {\n",
       "  background-color: #b1cbfc;\n",
       "  color: #000000;\n",
       "}\n",
       "#T_ed937_row5_col3 {\n",
       "  background-color: #455cce;\n",
       "  color: #f1f1f1;\n",
       "}\n",
       "</style>\n",
       "<table id=\"T_ed937\">\n",
       "  <thead>\n",
       "    <tr>\n",
       "      <th class=\"blank level0\" >&nbsp;</th>\n",
       "      <th id=\"T_ed937_level0_col0\" class=\"col_heading level0 col0\" >Size</th>\n",
       "      <th id=\"T_ed937_level0_col1\" class=\"col_heading level0 col1\" >Weight</th>\n",
       "      <th id=\"T_ed937_level0_col2\" class=\"col_heading level0 col2\" >Sweetness</th>\n",
       "      <th id=\"T_ed937_level0_col3\" class=\"col_heading level0 col3\" >Softness</th>\n",
       "      <th id=\"T_ed937_level0_col4\" class=\"col_heading level0 col4\" >HarvestTime</th>\n",
       "      <th id=\"T_ed937_level0_col5\" class=\"col_heading level0 col5\" >Acidity</th>\n",
       "    </tr>\n",
       "  </thead>\n",
       "  <tbody>\n",
       "    <tr>\n",
       "      <th id=\"T_ed937_level0_row0\" class=\"row_heading level0 row0\" >Size</th>\n",
       "      <td id=\"T_ed937_row0_col0\" class=\"data row0 col0\" >1.000000</td>\n",
       "      <td id=\"T_ed937_row0_col1\" class=\"data row0 col1\" >-0.181933</td>\n",
       "      <td id=\"T_ed937_row0_col2\" class=\"data row0 col2\" >-0.258027</td>\n",
       "      <td id=\"T_ed937_row0_col3\" class=\"data row0 col3\" >0.164526</td>\n",
       "      <td id=\"T_ed937_row0_col4\" class=\"data row0 col4\" >0.582014</td>\n",
       "      <td id=\"T_ed937_row0_col5\" class=\"data row0 col5\" >-0.140673</td>\n",
       "    </tr>\n",
       "    <tr>\n",
       "      <th id=\"T_ed937_level0_row1\" class=\"row_heading level0 row1\" >Weight</th>\n",
       "      <td id=\"T_ed937_row1_col0\" class=\"data row1 col0\" >-0.181933</td>\n",
       "      <td id=\"T_ed937_row1_col1\" class=\"data row1 col1\" >1.000000</td>\n",
       "      <td id=\"T_ed937_row1_col2\" class=\"data row1 col2\" >0.422683</td>\n",
       "      <td id=\"T_ed937_row1_col3\" class=\"data row1 col3\" >-0.189908</td>\n",
       "      <td id=\"T_ed937_row1_col4\" class=\"data row1 col4\" >-0.079465</td>\n",
       "      <td id=\"T_ed937_row1_col5\" class=\"data row1 col5\" >0.443879</td>\n",
       "    </tr>\n",
       "    <tr>\n",
       "      <th id=\"T_ed937_level0_row2\" class=\"row_heading level0 row2\" >Sweetness</th>\n",
       "      <td id=\"T_ed937_row2_col0\" class=\"data row2 col0\" >-0.258027</td>\n",
       "      <td id=\"T_ed937_row2_col1\" class=\"data row2 col1\" >0.422683</td>\n",
       "      <td id=\"T_ed937_row2_col2\" class=\"data row2 col2\" >1.000000</td>\n",
       "      <td id=\"T_ed937_row2_col3\" class=\"data row2 col3\" >-0.095338</td>\n",
       "      <td id=\"T_ed937_row2_col4\" class=\"data row2 col4\" >-0.201657</td>\n",
       "      <td id=\"T_ed937_row2_col5\" class=\"data row2 col5\" >0.187059</td>\n",
       "    </tr>\n",
       "    <tr>\n",
       "      <th id=\"T_ed937_level0_row3\" class=\"row_heading level0 row3\" >Softness</th>\n",
       "      <td id=\"T_ed937_row3_col0\" class=\"data row3 col0\" >0.164526</td>\n",
       "      <td id=\"T_ed937_row3_col1\" class=\"data row3 col1\" >-0.189908</td>\n",
       "      <td id=\"T_ed937_row3_col2\" class=\"data row3 col2\" >-0.095338</td>\n",
       "      <td id=\"T_ed937_row3_col3\" class=\"data row3 col3\" >1.000000</td>\n",
       "      <td id=\"T_ed937_row3_col4\" class=\"data row3 col4\" >0.194734</td>\n",
       "      <td id=\"T_ed937_row3_col5\" class=\"data row3 col5\" >-0.146014</td>\n",
       "    </tr>\n",
       "    <tr>\n",
       "      <th id=\"T_ed937_level0_row4\" class=\"row_heading level0 row4\" >HarvestTime</th>\n",
       "      <td id=\"T_ed937_row4_col0\" class=\"data row4 col0\" >0.582014</td>\n",
       "      <td id=\"T_ed937_row4_col1\" class=\"data row4 col1\" >-0.079465</td>\n",
       "      <td id=\"T_ed937_row4_col2\" class=\"data row4 col2\" >-0.201657</td>\n",
       "      <td id=\"T_ed937_row4_col3\" class=\"data row4 col3\" >0.194734</td>\n",
       "      <td id=\"T_ed937_row4_col4\" class=\"data row4 col4\" >1.000000</td>\n",
       "      <td id=\"T_ed937_row4_col5\" class=\"data row4 col5\" >-0.090903</td>\n",
       "    </tr>\n",
       "    <tr>\n",
       "      <th id=\"T_ed937_level0_row5\" class=\"row_heading level0 row5\" >Acidity</th>\n",
       "      <td id=\"T_ed937_row5_col0\" class=\"data row5 col0\" >-0.140673</td>\n",
       "      <td id=\"T_ed937_row5_col1\" class=\"data row5 col1\" >0.443879</td>\n",
       "      <td id=\"T_ed937_row5_col2\" class=\"data row5 col2\" >0.187059</td>\n",
       "      <td id=\"T_ed937_row5_col3\" class=\"data row5 col3\" >-0.146014</td>\n",
       "      <td id=\"T_ed937_row5_col4\" class=\"data row5 col4\" >-0.090903</td>\n",
       "      <td id=\"T_ed937_row5_col5\" class=\"data row5 col5\" >1.000000</td>\n",
       "    </tr>\n",
       "  </tbody>\n",
       "</table>\n"
      ],
      "text/plain": [
       "<pandas.io.formats.style.Styler at 0x7a406525bfa0>"
      ]
     },
     "execution_count": 10,
     "metadata": {},
     "output_type": "execute_result"
    }
   ],
   "source": [
    "df[numerical_features_all].corr().style.background_gradient(cmap='coolwarm')"
   ]
  },
  {
   "cell_type": "markdown",
   "id": "639b8415",
   "metadata": {
    "papermill": {
     "duration": 0.009097,
     "end_time": "2024-03-05T02:09:14.995642",
     "exception": false,
     "start_time": "2024-03-05T02:09:14.986545",
     "status": "completed"
    },
    "tags": []
   },
   "source": [
    "## Data Preparation"
   ]
  },
  {
   "cell_type": "markdown",
   "id": "46528f00",
   "metadata": {
    "papermill": {
     "duration": 0.008919,
     "end_time": "2024-03-05T02:09:15.013793",
     "exception": false,
     "start_time": "2024-03-05T02:09:15.004874",
     "status": "completed"
    },
    "tags": []
   },
   "source": [
    "__Split the train and test data"
   ]
  },
  {
   "cell_type": "code",
   "execution_count": 11,
   "id": "364955c5",
   "metadata": {
    "execution": {
     "iopub.execute_input": "2024-03-05T02:09:15.034806Z",
     "iopub.status.busy": "2024-03-05T02:09:15.034347Z",
     "iopub.status.idle": "2024-03-05T02:09:16.465616Z",
     "shell.execute_reply": "2024-03-05T02:09:16.464518Z"
    },
    "papermill": {
     "duration": 1.444989,
     "end_time": "2024-03-05T02:09:16.468615",
     "exception": false,
     "start_time": "2024-03-05T02:09:15.023626",
     "status": "completed"
    },
    "tags": []
   },
   "outputs": [],
   "source": [
    "from sklearn.model_selection import train_test_split\n",
    "\n",
    "\n",
    "train_data, test_data = train_test_split(df, test_size=0.3, random_state=42)\n"
   ]
  },
  {
   "cell_type": "markdown",
   "id": "b504e83b",
   "metadata": {
    "papermill": {
     "duration": 0.009111,
     "end_time": "2024-03-05T02:09:16.487071",
     "exception": false,
     "start_time": "2024-03-05T02:09:16.477960",
     "status": "completed"
    },
    "tags": []
   },
   "source": [
    "__Target Balancing"
   ]
  },
  {
   "cell_type": "code",
   "execution_count": 12,
   "id": "ef320571",
   "metadata": {
    "execution": {
     "iopub.execute_input": "2024-03-05T02:09:16.507221Z",
     "iopub.status.busy": "2024-03-05T02:09:16.506931Z",
     "iopub.status.idle": "2024-03-05T02:09:16.516646Z",
     "shell.execute_reply": "2024-03-05T02:09:16.515265Z"
    },
    "papermill": {
     "duration": 0.022273,
     "end_time": "2024-03-05T02:09:16.518414",
     "exception": false,
     "start_time": "2024-03-05T02:09:16.496141",
     "status": "completed"
    },
    "tags": []
   },
   "outputs": [
    {
     "name": "stdout",
     "output_type": "stream",
     "text": [
      "Training set shape: (5600, 8)\n",
      "Class 1 samples in the test set: 1246\n",
      "Class 2 samples in the test set: 1154\n",
      "\n",
      "Test set shape: (2400, 8)\n",
      "Class 1 samples in the test set: 1246\n",
      "Class 2 samples in the test set: 1154\n"
     ]
    }
   ],
   "source": [
    "print('Training set shape:', train_data.shape)\n",
    "\n",
    "print('Class 1 samples in the test set:', sum(test_data[model_target] == 'Good'))\n",
    "print('Class 2 samples in the test set:', sum(test_data[model_target] == 'Bad'))\n",
    "\n",
    "\n",
    "print('')\n",
    "\n",
    "print('Test set shape:', test_data.shape)\n",
    "\n",
    "print('Class 1 samples in the test set:', sum(test_data[model_target] == 'Good'))\n",
    "print('Class 2 samples in the test set:', sum(test_data[model_target] == 'Bad'))\n",
    "\n"
   ]
  },
  {
   "cell_type": "markdown",
   "id": "549c7743",
   "metadata": {
    "papermill": {
     "duration": 0.009552,
     "end_time": "2024-03-05T02:09:16.537616",
     "exception": false,
     "start_time": "2024-03-05T02:09:16.528064",
     "status": "completed"
    },
    "tags": []
   },
   "source": [
    "## Pipeline for data processing ##"
   ]
  },
  {
   "cell_type": "code",
   "execution_count": 13,
   "id": "915553bc",
   "metadata": {
    "execution": {
     "iopub.execute_input": "2024-03-05T02:09:16.559346Z",
     "iopub.status.busy": "2024-03-05T02:09:16.558660Z",
     "iopub.status.idle": "2024-03-05T02:09:16.860060Z",
     "shell.execute_reply": "2024-03-05T02:09:16.858588Z"
    },
    "papermill": {
     "duration": 0.31474,
     "end_time": "2024-03-05T02:09:16.862499",
     "exception": false,
     "start_time": "2024-03-05T02:09:16.547759",
     "status": "completed"
    },
    "tags": []
   },
   "outputs": [],
   "source": [
    "from sklearn.impute import SimpleImputer\n",
    "from sklearn.preprocessing import OrdinalEncoder, MinMaxScaler,OneHotEncoder\n",
    "from sklearn.pipeline import Pipeline\n",
    "from sklearn.compose import ColumnTransformer\n",
    "from sklearn.tree import DecisionTreeClassifier\n",
    "from sklearn.metrics import classification_report,ConfusionMatrixDisplay\n",
    "from sklearn.metrics import accuracy_score\n",
    "from sklearn.linear_model import LogisticRegression\n",
    "from sklearn.neighbors import KNeighborsClassifier\n",
    "from sklearn.ensemble import RandomForestClassifier\n",
    "\n",
    "# Preprocess the numerical features\n",
    "numerical_processor = Pipeline([\n",
    "    ('num_imputer', SimpleImputer(strategy='mean')),\n",
    "    ('num_scaler', MinMaxScaler()) # Shown in case is needed, not a must with Decision Trees\n",
    "])\n",
    "                  \n",
    "# Preprocess the categorical features\n",
    "categorical_processor = Pipeline([\n",
    "    ('cat_imputer', SimpleImputer(strategy='constant', fill_value='missing')), # Shown in case is needed, no effect here as we already imputed with 'nan' strings\n",
    "    ('cat_encoder', OneHotEncoder()) # handle_unknown tells it to ignore (rather than throw an error for) any value that was not present in the initial training set.\n",
    "])\n"
   ]
  },
  {
   "cell_type": "code",
   "execution_count": 14,
   "id": "c81f563f",
   "metadata": {
    "execution": {
     "iopub.execute_input": "2024-03-05T02:09:16.883370Z",
     "iopub.status.busy": "2024-03-05T02:09:16.882780Z",
     "iopub.status.idle": "2024-03-05T02:09:16.887657Z",
     "shell.execute_reply": "2024-03-05T02:09:16.886407Z"
    },
    "papermill": {
     "duration": 0.017763,
     "end_time": "2024-03-05T02:09:16.889900",
     "exception": false,
     "start_time": "2024-03-05T02:09:16.872137",
     "status": "completed"
    },
    "tags": []
   },
   "outputs": [],
   "source": [
    "\n",
    "data_preprocessor = ColumnTransformer([\n",
    "    ('numerical_pre', numerical_processor, numerical_features_all),\n",
    "    ('categorical_pre', categorical_processor, categorical_features_all)\n",
    "]) "
   ]
  },
  {
   "cell_type": "markdown",
   "id": "b4c6c603",
   "metadata": {
    "papermill": {
     "duration": 0.009077,
     "end_time": "2024-03-05T02:09:16.908507",
     "exception": false,
     "start_time": "2024-03-05T02:09:16.899430",
     "status": "completed"
    },
    "tags": []
   },
   "source": [
    "___Multiple Models using Pipeline"
   ]
  },
  {
   "cell_type": "code",
   "execution_count": 15,
   "id": "ef182973",
   "metadata": {
    "execution": {
     "iopub.execute_input": "2024-03-05T02:09:16.928805Z",
     "iopub.status.busy": "2024-03-05T02:09:16.928433Z",
     "iopub.status.idle": "2024-03-05T02:09:16.934510Z",
     "shell.execute_reply": "2024-03-05T02:09:16.933520Z"
    },
    "papermill": {
     "duration": 0.018462,
     "end_time": "2024-03-05T02:09:16.936176",
     "exception": false,
     "start_time": "2024-03-05T02:09:16.917714",
     "status": "completed"
    },
    "tags": []
   },
   "outputs": [],
   "source": [
    "\n",
    "pipelines = []\n",
    "pipelines.append(('scaledLR' , (Pipeline([('data_preprocessing', data_preprocessor),('LR' ,LogisticRegression())]))))\n",
    "pipelines.append(('scaledKNN' , (Pipeline([('data_preprocessing', data_preprocessor),('KNN' ,KNeighborsClassifier())]))))\n",
    "pipelines.append(('scaledDT' , (Pipeline([('data_preprocessing', data_preprocessor),('DT' ,DecisionTreeClassifier())]))))\n",
    "pipelines.append(('scaledRF' , (Pipeline([('data_preprocessing', data_preprocessor),('RF' ,RandomForestClassifier())]))))\n",
    "\n"
   ]
  },
  {
   "cell_type": "code",
   "execution_count": 16,
   "id": "0b9d3eab",
   "metadata": {
    "execution": {
     "iopub.execute_input": "2024-03-05T02:09:16.956426Z",
     "iopub.status.busy": "2024-03-05T02:09:16.956011Z",
     "iopub.status.idle": "2024-03-05T02:09:19.862129Z",
     "shell.execute_reply": "2024-03-05T02:09:19.861211Z"
    },
    "papermill": {
     "duration": 2.918706,
     "end_time": "2024-03-05T02:09:19.864210",
     "exception": false,
     "start_time": "2024-03-05T02:09:16.945504",
     "status": "completed"
    },
    "tags": []
   },
   "outputs": [
    {
     "name": "stdout",
     "output_type": "stream",
     "text": [
      "**************************************************\n",
      "Model Name:  scaledLR\n",
      "\n",
      "[[2477  363]\n",
      " [ 342 2418]]\n",
      "              precision    recall  f1-score   support\n",
      "\n",
      "         Bad       0.88      0.87      0.88      2840\n",
      "        Good       0.87      0.88      0.87      2760\n",
      "\n",
      "    accuracy                           0.87      5600\n",
      "   macro avg       0.87      0.87      0.87      5600\n",
      "weighted avg       0.87      0.87      0.87      5600\n",
      "\n",
      "Accuracy (training): 0.8741071428571429\n",
      "[[1002  152]\n",
      " [ 133 1113]]\n",
      "              precision    recall  f1-score   support\n",
      "\n",
      "         Bad       0.88      0.87      0.88      1154\n",
      "        Good       0.88      0.89      0.89      1246\n",
      "\n",
      "    accuracy                           0.88      2400\n",
      "   macro avg       0.88      0.88      0.88      2400\n",
      "weighted avg       0.88      0.88      0.88      2400\n",
      "\n",
      "Accuracy (test): 0.88125\n",
      "\n",
      "**************************************************\n",
      "Model Name:  scaledKNN\n",
      "\n",
      "[[2801   39]\n",
      " [  58 2702]]\n",
      "              precision    recall  f1-score   support\n",
      "\n",
      "         Bad       0.98      0.99      0.98      2840\n",
      "        Good       0.99      0.98      0.98      2760\n",
      "\n",
      "    accuracy                           0.98      5600\n",
      "   macro avg       0.98      0.98      0.98      5600\n",
      "weighted avg       0.98      0.98      0.98      5600\n",
      "\n",
      "Accuracy (training): 0.9826785714285714\n",
      "[[1123   31]\n",
      " [  27 1219]]\n",
      "              precision    recall  f1-score   support\n",
      "\n",
      "         Bad       0.98      0.97      0.97      1154\n",
      "        Good       0.98      0.98      0.98      1246\n",
      "\n",
      "    accuracy                           0.98      2400\n",
      "   macro avg       0.98      0.98      0.98      2400\n",
      "weighted avg       0.98      0.98      0.98      2400\n",
      "\n",
      "Accuracy (test): 0.9758333333333333\n",
      "\n",
      "**************************************************\n",
      "Model Name:  scaledDT\n",
      "\n",
      "[[2840    0]\n",
      " [   0 2760]]\n",
      "              precision    recall  f1-score   support\n",
      "\n",
      "         Bad       1.00      1.00      1.00      2840\n",
      "        Good       1.00      1.00      1.00      2760\n",
      "\n",
      "    accuracy                           1.00      5600\n",
      "   macro avg       1.00      1.00      1.00      5600\n",
      "weighted avg       1.00      1.00      1.00      5600\n",
      "\n",
      "Accuracy (training): 1.0\n",
      "[[1079   75]\n",
      " [  75 1171]]\n",
      "              precision    recall  f1-score   support\n",
      "\n",
      "         Bad       0.94      0.94      0.94      1154\n",
      "        Good       0.94      0.94      0.94      1246\n",
      "\n",
      "    accuracy                           0.94      2400\n",
      "   macro avg       0.94      0.94      0.94      2400\n",
      "weighted avg       0.94      0.94      0.94      2400\n",
      "\n",
      "Accuracy (test): 0.9375\n",
      "\n",
      "**************************************************\n",
      "Model Name:  scaledRF\n",
      "\n",
      "[[2840    0]\n",
      " [   0 2760]]\n",
      "              precision    recall  f1-score   support\n",
      "\n",
      "         Bad       1.00      1.00      1.00      2840\n",
      "        Good       1.00      1.00      1.00      2760\n",
      "\n",
      "    accuracy                           1.00      5600\n",
      "   macro avg       1.00      1.00      1.00      5600\n",
      "weighted avg       1.00      1.00      1.00      5600\n",
      "\n",
      "Accuracy (training): 1.0\n",
      "[[1121   33]\n",
      " [  40 1206]]\n",
      "              precision    recall  f1-score   support\n",
      "\n",
      "         Bad       0.97      0.97      0.97      1154\n",
      "        Good       0.97      0.97      0.97      1246\n",
      "\n",
      "    accuracy                           0.97      2400\n",
      "   macro avg       0.97      0.97      0.97      2400\n",
      "weighted avg       0.97      0.97      0.97      2400\n",
      "\n",
      "Accuracy (test): 0.9695833333333334\n",
      "\n"
     ]
    }
   ],
   "source": [
    "from sklearn.metrics import confusion_matrix,ConfusionMatrixDisplay, classification_report, accuracy_score\n",
    "import matplotlib.pyplot as plt\n",
    "X_train = train_data[model_features]\n",
    "y_train = train_data[model_target]\n",
    "\n",
    "for pipe ,model in pipelines:\n",
    "    model.fit(X_train, y_train)\n",
    "    print('*'*50)\n",
    "    print('Model Name: ' , pipe)\n",
    "    \n",
    "    print('')\n",
    "    \n",
    "    train_predictions = model.predict(X_train)\n",
    "    print(confusion_matrix(y_train, train_predictions))\n",
    "    print(classification_report(y_train, train_predictions))\n",
    "    print(\"Accuracy (training):\", accuracy_score(y_train, train_predictions))\n",
    "\n",
    "    # Get test data to test the pipeline\n",
    "    X_test = test_data[model_features]\n",
    "    y_test = test_data[model_target]\n",
    "\n",
    "    # Use the fitted pipeline to make predictions on the test dataset\n",
    "    test_predictions = model.predict(X_test)\n",
    "    print(confusion_matrix(y_test, test_predictions))\n",
    "    print(classification_report(y_test, test_predictions))\n",
    "    print(\"Accuracy (test):\", accuracy_score(y_test, test_predictions))\n",
    "    print('')"
   ]
  },
  {
   "cell_type": "markdown",
   "id": "63127e6c",
   "metadata": {
    "papermill": {
     "duration": 0.00966,
     "end_time": "2024-03-05T02:09:19.883938",
     "exception": false,
     "start_time": "2024-03-05T02:09:19.874278",
     "status": "completed"
    },
    "tags": []
   },
   "source": [
    "\n",
    "\n",
    "## Grid Serach for tune the hyper-parameter for the Multiple classifier. ##\n",
    "\n",
    "       "
   ]
  },
  {
   "cell_type": "code",
   "execution_count": 17,
   "id": "676ac640",
   "metadata": {
    "execution": {
     "iopub.execute_input": "2024-03-05T02:09:19.905440Z",
     "iopub.status.busy": "2024-03-05T02:09:19.904412Z",
     "iopub.status.idle": "2024-03-05T02:09:19.913711Z",
     "shell.execute_reply": "2024-03-05T02:09:19.913082Z"
    },
    "papermill": {
     "duration": 0.022152,
     "end_time": "2024-03-05T02:09:19.915673",
     "exception": false,
     "start_time": "2024-03-05T02:09:19.893521",
     "status": "completed"
    },
    "tags": []
   },
   "outputs": [],
   "source": [
    "from sklearn.model_selection import GridSearchCV, RandomizedSearchCV\n",
    "\n",
    "param_range = [1, 2, 3, 4, 5, 6]\n",
    "param_range_fl = [1.0, 0.5, 0.1]\n",
    "\n",
    "lr_param_grid = [{'LR__penalty': ['l1', 'l2'],\n",
    "                   'LR__C': param_range_fl,\n",
    "                   'LR__solver': ['liblinear']}]\n",
    "dt_param_grid = [{'DT__criterion': ['gini', 'entropy'],\n",
    "                   'DT__min_samples_leaf': param_range,\n",
    "                   'DT__max_depth': param_range,\n",
    "                   'DT__min_samples_split': param_range[1:]}]\n",
    "\n",
    "knn_param_grid = [{'KNN__n_neighbors': param_range,\n",
    "                   'KNN__weights': ['uniform', 'distance'],\n",
    "                   'KNN__metric': ['euclidean', 'manhattan']}]\n",
    "\n",
    "rf_param_grid = [{'RF__n_estimators' : [3.4,5],\n",
    "                  'RF__min_samples_leaf': param_range,\n",
    "                   'RF__max_depth': param_range,\n",
    "                   'RF__min_samples_split': param_range[1:]\n",
    "                 }]\n",
    "\n",
    "\n",
    "\n",
    "grids = []\n",
    "\n",
    "for pipe ,model in pipelines:\n",
    "    if pipe == 'scaledLR':\n",
    "        lr_grid_search = GridSearchCV(model,\n",
    "        param_grid=lr_param_grid,\n",
    "        n_jobs = -1,\n",
    "        cv=5)\n",
    "        grids.append(('LR', lr_grid_search))\n",
    "    if pipe == 'scaledKNN':    \n",
    "        knn_grid_search = GridSearchCV(model,\n",
    "        param_grid=knn_param_grid,\n",
    "        n_jobs = -1,\n",
    "        cv=5)\n",
    "        grids.append(('KNN',knn_grid_search))\n",
    "    if pipe == 'scaledDT':        \n",
    "        dt_grid_search = GridSearchCV(model,\n",
    "        param_grid=dt_param_grid,\n",
    "        n_jobs = -1,\n",
    "        cv=5)\n",
    "        grids.append(('DT',dt_grid_search))\n",
    "    if pipe == 'scaledRF':      \n",
    "        rf_grid_search = GridSearchCV(model,\n",
    "        param_grid=rf_param_grid,\n",
    "        n_jobs = -1,\n",
    "        cv=5)\n",
    "        grids.append(('RF',rf_grid_search))\n",
    "        \n",
    "\n",
    "        "
   ]
  },
  {
   "cell_type": "code",
   "execution_count": 18,
   "id": "c18e5f23",
   "metadata": {
    "execution": {
     "iopub.execute_input": "2024-03-05T02:09:19.937296Z",
     "iopub.status.busy": "2024-03-05T02:09:19.936943Z",
     "iopub.status.idle": "2024-03-05T02:10:07.131290Z",
     "shell.execute_reply": "2024-03-05T02:10:07.130267Z"
    },
    "papermill": {
     "duration": 47.208137,
     "end_time": "2024-03-05T02:10:07.133804",
     "exception": false,
     "start_time": "2024-03-05T02:09:19.925667",
     "status": "completed"
    },
    "tags": []
   },
   "outputs": [],
   "source": [
    "\n",
    "for model, pipe in grids:\n",
    "    pipe.fit(X_train,y_train)"
   ]
  },
  {
   "cell_type": "code",
   "execution_count": 19,
   "id": "e6cd4887",
   "metadata": {
    "execution": {
     "iopub.execute_input": "2024-03-05T02:10:07.156111Z",
     "iopub.status.busy": "2024-03-05T02:10:07.155747Z",
     "iopub.status.idle": "2024-03-05T02:10:09.124391Z",
     "shell.execute_reply": "2024-03-05T02:10:09.122749Z"
    },
    "papermill": {
     "duration": 1.98277,
     "end_time": "2024-03-05T02:10:09.127229",
     "exception": false,
     "start_time": "2024-03-05T02:10:07.144459",
     "status": "completed"
    },
    "tags": []
   },
   "outputs": [
    {
     "name": "stdout",
     "output_type": "stream",
     "text": [
      "**************************************************\n",
      "Model Name:  LR\n",
      "\n",
      "[[2482  358]\n",
      " [ 340 2420]]\n",
      "              precision    recall  f1-score   support\n",
      "\n",
      "         Bad       0.88      0.87      0.88      2840\n",
      "        Good       0.87      0.88      0.87      2760\n",
      "\n",
      "    accuracy                           0.88      5600\n",
      "   macro avg       0.88      0.88      0.88      5600\n",
      "weighted avg       0.88      0.88      0.88      5600\n",
      "\n",
      "Accuracy (training): 0.8753571428571428\n",
      "**************************************************\n",
      "Model Name:  KNN\n",
      "\n",
      "[[2840    0]\n",
      " [   0 2760]]\n",
      "              precision    recall  f1-score   support\n",
      "\n",
      "         Bad       1.00      1.00      1.00      2840\n",
      "        Good       1.00      1.00      1.00      2760\n",
      "\n",
      "    accuracy                           1.00      5600\n",
      "   macro avg       1.00      1.00      1.00      5600\n",
      "weighted avg       1.00      1.00      1.00      5600\n",
      "\n",
      "Accuracy (training): 1.0\n",
      "**************************************************\n",
      "Model Name:  DT\n",
      "\n",
      "[[2641  199]\n",
      " [ 188 2572]]\n",
      "              precision    recall  f1-score   support\n",
      "\n",
      "         Bad       0.93      0.93      0.93      2840\n",
      "        Good       0.93      0.93      0.93      2760\n",
      "\n",
      "    accuracy                           0.93      5600\n",
      "   macro avg       0.93      0.93      0.93      5600\n",
      "weighted avg       0.93      0.93      0.93      5600\n",
      "\n",
      "Accuracy (training): 0.9308928571428572\n",
      "**************************************************\n",
      "Model Name:  RF\n",
      "\n",
      "[[2708  132]\n",
      " [ 214 2546]]\n",
      "              precision    recall  f1-score   support\n",
      "\n",
      "         Bad       0.93      0.95      0.94      2840\n",
      "        Good       0.95      0.92      0.94      2760\n",
      "\n",
      "    accuracy                           0.94      5600\n",
      "   macro avg       0.94      0.94      0.94      5600\n",
      "weighted avg       0.94      0.94      0.94      5600\n",
      "\n",
      "Accuracy (training): 0.9382142857142857\n",
      "**************************************************\n",
      "Model Name:  LR\n",
      "\n",
      "[[ 999  155]\n",
      " [ 132 1114]]\n"
     ]
    },
    {
     "data": {
      "image/png": "[encoded data removed]",
      "text/plain": [
       "<Figure size 640x480 with 2 Axes>"
      ]
     },
     "metadata": {},
     "output_type": "display_data"
    },
    {
     "name": "stdout",
     "output_type": "stream",
     "text": [
      "              precision    recall  f1-score   support\n",
      "\n",
      "         Bad       0.88      0.87      0.87      1154\n",
      "        Good       0.88      0.89      0.89      1246\n",
      "\n",
      "    accuracy                           0.88      2400\n",
      "   macro avg       0.88      0.88      0.88      2400\n",
      "weighted avg       0.88      0.88      0.88      2400\n",
      "\n",
      "LR Test Accuracy: 0.8804166666666666\n",
      "LR Best Params: {'LR__C': 0.5, 'LR__penalty': 'l1', 'LR__solver': 'liblinear'}\n",
      "**************************************************\n",
      "Model Name:  KNN\n",
      "\n",
      "[[1124   30]\n",
      " [  27 1219]]\n"
     ]
    },
    {
     "data": {
      "image/png": "[encoded data removed]",
      "text/plain": [
       "<Figure size 640x480 with 2 Axes>"
      ]
     },
     "metadata": {},
     "output_type": "display_data"
    },
    {
     "name": "stdout",
     "output_type": "stream",
     "text": [
      "              precision    recall  f1-score   support\n",
      "\n",
      "         Bad       0.98      0.97      0.98      1154\n",
      "        Good       0.98      0.98      0.98      1246\n",
      "\n",
      "    accuracy                           0.98      2400\n",
      "   macro avg       0.98      0.98      0.98      2400\n",
      "weighted avg       0.98      0.98      0.98      2400\n",
      "\n",
      "KNN Test Accuracy: 0.97625\n",
      "KNN Best Params: {'KNN__metric': 'euclidean', 'KNN__n_neighbors': 5, 'KNN__weights': 'distance'}\n",
      "**************************************************\n",
      "Model Name:  DT\n",
      "\n",
      "[[1037  117]\n",
      " [  88 1158]]\n"
     ]
    },
    {
     "data": {
      "image/png": "[encoded data removed]",
      "text/plain": [
       "<Figure size 640x480 with 2 Axes>"
      ]
     },
     "metadata": {},
     "output_type": "display_data"
    },
    {
     "name": "stdout",
     "output_type": "stream",
     "text": [
      "              precision    recall  f1-score   support\n",
      "\n",
      "         Bad       0.92      0.90      0.91      1154\n",
      "        Good       0.91      0.93      0.92      1246\n",
      "\n",
      "    accuracy                           0.91      2400\n",
      "   macro avg       0.92      0.91      0.91      2400\n",
      "weighted avg       0.91      0.91      0.91      2400\n",
      "\n",
      "DT Test Accuracy: 0.9145833333333333\n",
      "DT Best Params: {'DT__criterion': 'entropy', 'DT__max_depth': 6, 'DT__min_samples_leaf': 3, 'DT__min_samples_split': 2}\n",
      "**************************************************\n",
      "Model Name:  RF\n",
      "\n",
      "[[1083   71]\n",
      " [  98 1148]]\n"
     ]
    },
    {
     "data": {
      "image/png": "[encoded data removed]",
      "text/plain": [
       "<Figure size 640x480 with 2 Axes>"
      ]
     },
     "metadata": {},
     "output_type": "display_data"
    },
    {
     "name": "stdout",
     "output_type": "stream",
     "text": [
      "              precision    recall  f1-score   support\n",
      "\n",
      "         Bad       0.92      0.94      0.93      1154\n",
      "        Good       0.94      0.92      0.93      1246\n",
      "\n",
      "    accuracy                           0.93      2400\n",
      "   macro avg       0.93      0.93      0.93      2400\n",
      "weighted avg       0.93      0.93      0.93      2400\n",
      "\n",
      "RF Test Accuracy: 0.9295833333333333\n",
      "RF Best Params: {'RF__max_depth': 6, 'RF__min_samples_leaf': 2, 'RF__min_samples_split': 3, 'RF__n_estimators': 5}\n"
     ]
    }
   ],
   "source": [
    "# Use the fitted pipeline to make predictions on the train dataset\n",
    "for model,pipe in grids:\n",
    "    train_predictions = pipe.predict(X_train)\n",
    "    print('*'*50)\n",
    "    print('Model Name: ' , model)\n",
    "    print('')\n",
    "    print(confusion_matrix(y_train, train_predictions))\n",
    "    print(classification_report(y_train, train_predictions))\n",
    "    print(\"Accuracy (training):\", accuracy_score(y_train, train_predictions))\n",
    "\n",
    "# Get test data to test the pipeline\n",
    "X_test = test_data[model_features]\n",
    "y_test = test_data[model_target]\n",
    "\n",
    "\n",
    "\n",
    "# Use the fitted pipeline to make predictions on the test dataset\n",
    "for model, pipe in grids:\n",
    "    test_predictions = pipe.predict(X_test)\n",
    "    print('*'*50)\n",
    "    print('Model Name: ' , model)\n",
    "    print('')\n",
    "    print(confusion_matrix(y_test, test_predictions,labels=pipe.classes_))\n",
    "    disp = ConfusionMatrixDisplay(confusion_matrix =confusion_matrix(y_test, test_predictions),display_labels=pipe.classes_)\n",
    "\n",
    "    disp.plot()\n",
    "\n",
    "    plt.show()\n",
    "    print(classification_report(y_test, test_predictions))\n",
    "    \n",
    "    print('{} Test Accuracy: {}'.format(model,accuracy_score(y_test, test_predictions)))\n",
    "    print('{} Best Params: {}'.format(model,pipe.best_params_))"
   ]
  },
  {
   "cell_type": "markdown",
   "id": "901471f6",
   "metadata": {
    "papermill": {
     "duration": 0.012942,
     "end_time": "2024-03-05T02:10:09.152041",
     "exception": false,
     "start_time": "2024-03-05T02:10:09.139099",
     "status": "completed"
    },
    "tags": []
   },
   "source": [
    "After tuning the models with hyper parameters KNN has the Higher(97%) accuracy for the given test data set as compare to RF,DT,LR. THe list of the hyper parameter of RF as follows,\n",
    "\n",
    "KNN Best Params: {'KNN__metric': 'euclidean', 'KNN__n_neighbors': 5, 'KNN__weights': 'distance'}"
   ]
  }
 ],
 "metadata": {
  "interpreter": {
   "hash": "eba38789ab565d76f074e8fa97ecc7da63eb4a5e1ba28cc348f16f5285783ca7"
  },
  "kaggle": {
   "accelerator": "none",
   "dataSources": [
    {
     "datasetId": 4530892,
     "sourceId": 7750407,
     "sourceType": "datasetVersion"
    }
   ],
   "dockerImageVersionId": 30664,
   "isGpuEnabled": false,
   "isInternetEnabled": true,
   "language": "python",
   "sourceType": "notebook"
  },
  "kernelspec": {
   "display_name": "Python 3",
   "language": "python",
   "name": "python3"
  },
  "language_info": {
   "codemirror_mode": {
    "name": "ipython",
    "version": 3
   },
   "file_extension": ".py",
   "mimetype": "text/x-python",
   "name": "python",
   "nbconvert_exporter": "python",
   "pygments_lexer": "ipython3",
   "version": "3.10.13"
  },
  "papermill": {
   "default_parameters": {},
   "duration": 61.970535,
   "end_time": "2024-03-05T02:10:11.784355",
   "environment_variables": {},
   "exception": null,
   "input_path": "__notebook__.ipynb",
   "output_path": "__notebook__.ipynb",
   "parameters": {},
   "start_time": "2024-03-05T02:09:09.813820",
   "version": "2.5.0"
  }
 },
 "nbformat": 4,
 "nbformat_minor": 5
}
